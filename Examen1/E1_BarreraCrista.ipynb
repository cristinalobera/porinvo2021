{
 "cells": [
  {
   "cell_type": "markdown",
   "metadata": {},
   "source": [
    "# Examen 1 - Portafolios de inversión - P2021. Tipo 3.\n",
    "\n",
    "<img style=\"float: right; margin: 0px 0px 15px 15px;\" src=\"data:image/jpeg;base64,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\" width=\"600px\" height=\"400px\" />\n",
    "\n",
    "**Resumen.**\n",
    "> Este examen pretende evaluar los conocimientos que hemos adquirido a lo largo de los dos primeros módulos.\n",
    "\n",
    "> El examen consta de dos partes. \n",
    "1. La primera es meramente teórica, y los cálculos que puede llegar a involucrar son bastante sencillos. En esta parte, las preguntas son de selección múltiple con justificación, es decir, debes elegir la(s) respuesta(s) correcta(s) y decir porqué la seleccionaste.\n",
    "2. La segunda parte es práctica, como lo que se ha venido haciendo en las tareas. En esta parte deberás importar un archivo donde se encuentran reportados los precios ajustados en el cierre de dos compañías en una base diaria, deberás caracterizar los rendimientos y con base en ello construir fronteras media-varianza bajo ciertas condiciones. Finalmente deberás concluir de los resultados.\n",
    "\n",
    "**Criterio de revisión.**\n",
    "> Primera parte: tiene un valor del 50% del examen. Habrá una pregunta de alguna demostración hecha en clase o dejada de tarea. También habrán preguntas tipo quiz con justificación. Si la pregunta corresponde a un cálculo numérico, la justificación es en sí las operaciones resueltas para obtener el resultado en el notebook.\n",
    "\n",
    "> Segunda parte: tiene un valor del 50% del examen. Se te calificará de acuerdo a los resultados finales que reportes, basados en tu análisis.\n",
    "\n",
    "**Antes de comenzar.**\n",
    "> Por favor, nombrar este archivo *Examen1_ApellidoNombre*, sin acentos y sin espacios; por ejemplo, en mi caso el archivo se llamaría *Examen1_JimenezEsteban*. Resolver todos los puntos en dicho archivo y subir a moodle.\n",
    "___"
   ]
  },
  {
   "cell_type": "code",
   "execution_count": 1,
   "metadata": {},
   "outputs": [],
   "source": [
    "# Importamos librerías \n",
    "import numpy as np\n",
    "import pandas as pd\n",
    "import matplotlib.pyplot as plt\n",
    "%matplotlib inline\n",
    "from scipy.optimize import minimize\n",
    "import scipy.optimize as opt"
   ]
  },
  {
   "cell_type": "markdown",
   "metadata": {},
   "source": [
    "## I. Primera parte (50%)"
   ]
  },
  {
   "cell_type": "markdown",
   "metadata": {},
   "source": [
    "**Pregunta 1.** Suponga que se forma un portafolio con $n$ activos, todos los activos igualmente ponderados, todos los activos con la misma varianza, y todos los pares de activos con la misma covarianza.\n",
    "\n",
    "Demuestre que cuando la cantidad de activos es suficientemente grande la varianza del portafolio tiende a la covarianza entre pares de activos.\n",
    "\n",
    "La demostración se puede hacer usando código $\\LaTeX$ directamente en las celdas tipo markdown. Alternativamente, se puede hacer en papel e insertar la imagen en el notebook (recuerde que para esto último es necesario subir un archivo comprimido con el notebook y la imagen).\n",
    "\n",
    "Es importante para la demostración que todo esté perfectamente justificado paso por paso, y no se aceptan pasos \"mágicos\" sin justificación."
   ]
  },
  {
   "cell_type": "markdown",
   "metadata": {},
   "source": [
    "*Demostración* (30%):"
   ]
  },
  {
   "cell_type": "markdown",
   "metadata": {},
   "source": [
    "**Pregunta 2.** Considere la siguiente distribución de rendimientos de los activos A, B y C:\n",
    "\n",
    "| Probabilidad     | Rendimiento A       | Rendimiento B         | Rendimiento C         |\n",
    "| ---------------- | ------------------  | -------------------   | ------------------    |\n",
    "| 50%              | 0.10                | 0.03                  | 0.08                  |\n",
    "| 30%              | 0.20                | 0.15                  | -0.13                 |\n",
    "| 20%              | -0.15               | -0.10                 | 0.02                  |\n",
    "\n",
    "\n",
    "¿Cuál es la el rendimiento esperado y la volatilidad de un portafolio compuesto 30% por el activo A, 40% por el activo B y 30% por el activo C?\n",
    "\n",
    "A. $E[r_P]$ = 5.41%, $\\sigma_P$ = 6.60%\n",
    "\n",
    "B. $E[r_P]$ = 4.15%, $\\sigma_P$ = 6.60%\n",
    "\n",
    "C. $E[r_P]$ = 4.51%, $\\sigma_P$ = 6.06%\n",
    "\n",
    "D. $E[r_P]$ = 4.15%, $\\sigma_P$ = 6.06%"
   ]
  },
  {
   "cell_type": "markdown",
   "metadata": {},
   "source": [
    "La respuesta correcta es (5%): **La respuesta correcta es la D.**"
   ]
  },
  {
   "cell_type": "code",
   "execution_count": 2,
   "metadata": {},
   "outputs": [
    {
     "data": {
      "text/html": [
       "<div>\n",
       "<style scoped>\n",
       "    .dataframe tbody tr th:only-of-type {\n",
       "        vertical-align: middle;\n",
       "    }\n",
       "\n",
       "    .dataframe tbody tr th {\n",
       "        vertical-align: top;\n",
       "    }\n",
       "\n",
       "    .dataframe thead th {\n",
       "        text-align: right;\n",
       "    }\n",
       "</style>\n",
       "<table border=\"1\" class=\"dataframe\">\n",
       "  <thead>\n",
       "    <tr style=\"text-align: right;\">\n",
       "      <th></th>\n",
       "      <th>Prob</th>\n",
       "      <th>A</th>\n",
       "      <th>B</th>\n",
       "      <th>C</th>\n",
       "    </tr>\n",
       "  </thead>\n",
       "  <tbody>\n",
       "    <tr>\n",
       "      <th>0</th>\n",
       "      <td>0.5</td>\n",
       "      <td>0.10</td>\n",
       "      <td>0.03</td>\n",
       "      <td>0.08</td>\n",
       "    </tr>\n",
       "    <tr>\n",
       "      <th>1</th>\n",
       "      <td>0.3</td>\n",
       "      <td>0.20</td>\n",
       "      <td>0.15</td>\n",
       "      <td>-0.13</td>\n",
       "    </tr>\n",
       "    <tr>\n",
       "      <th>2</th>\n",
       "      <td>0.2</td>\n",
       "      <td>-0.15</td>\n",
       "      <td>-0.10</td>\n",
       "      <td>0.02</td>\n",
       "    </tr>\n",
       "  </tbody>\n",
       "</table>\n",
       "</div>"
      ],
      "text/plain": [
       "   Prob     A     B     C\n",
       "0   0.5  0.10  0.03  0.08\n",
       "1   0.3  0.20  0.15 -0.13\n",
       "2   0.2 -0.15 -0.10  0.02"
      ]
     },
     "execution_count": 2,
     "metadata": {},
     "output_type": "execute_result"
    }
   ],
   "source": [
    "# La justificación a esta pregunta son los cálculos necesarios para llegar al resultado (5%)\n",
    "tabla = pd.DataFrame(columns=[\"Prob\", \"A\", \"B\", \"C\"])\n",
    "tabla[\"Prob\"] = [0.5, 0.3, 0.2]\n",
    "tabla[\"A\"] = [0.10, 0.20, -0.15]\n",
    "tabla[\"B\"] = [0.03, 0.15, - 0.10]\n",
    "tabla[\"C\"] = [0.08, -0.13, 0.02]\n",
    "tabla"
   ]
  },
  {
   "cell_type": "code",
   "execution_count": 3,
   "metadata": {},
   "outputs": [
    {
     "data": {
      "text/plain": [
       "(0.041499999999999995, 0.060599092402444446)"
      ]
     },
     "execution_count": 3,
     "metadata": {},
     "output_type": "execute_result"
    }
   ],
   "source": [
    "tabla[\"Portafolio\"]= 0.3 * tabla[\"A\"] + 0.4 * tabla[\"B\"] + 0.3 * tabla[\"C\"]\n",
    "ErP = (tabla[\"Prob\"] * tabla [\"Portafolio\"]).sum()\n",
    "sP = (tabla[\"Prob\"] * (tabla[\"Portafolio\"] - ErP)**2).sum()**0.5\n",
    "ErP, sP"
   ]
  },
  {
   "cell_type": "markdown",
   "metadata": {},
   "source": [
    "**Pregunta 3.** Suponga que usted está considerando añadir bienes inmuebles a su portafolio bien diversificado que solo consta de activos, bonos y efectivo en una cuenta bancaria. ¿Cuál característica de los rendimientos de los bienes inmuebles afectaría el riesgo de su portafolio?\n",
    "\n",
    "A. Rendimientos esperados de los bienes inmuebles.\n",
    "\n",
    "B. Qué tan viejos son los bienes inmuebles.\n",
    "\n",
    "C. La correlación de los rendimientos de los bienes inmuebles con las otras clases de activos en su portafolio.\n",
    "\n",
    "D. La desviación estándar de los rendimientos de los bienes inmuebles."
   ]
  },
  {
   "cell_type": "markdown",
   "metadata": {},
   "source": [
    "La respuesta correcta es (5%): **La respuesta correcta es la C.**"
   ]
  },
  {
   "cell_type": "markdown",
   "metadata": {},
   "source": [
    "Justificación (5%):\n",
    "El agregar bienes inmuebles genera un cambio en la correlación entre los activos del portafolio. Si la correlación baja es mejor, ya que de esta manera se genera una mejor diversificación del portafolio. La falta de relación en cuanto al giro de los activos genera mayor estabilidad, ya que si alguno llega a bajar debido a su giro, no afecta al otro.\n"
   ]
  },
  {
   "cell_type": "markdown",
   "metadata": {},
   "source": [
    "___\n",
    "## II. Segunda parte (50%)\n",
    "\n",
    "En lo que llevamos del curso hemos hablado que la teoría de portafolios moderna tiene que ver con un concepto base principal: **la diversificación**.\n",
    "\n",
    "Hemos visto que la diversificación nos ayuda a reducir el riesgo idiosincrático. Sin embargo, también estudiamos que el riesgo puede ser tanto de perder como de ganar, entonces bajo este enfoque no podemos esperar rendimientos exhorbitantes. Por otra parte, sin importar los movimientos del mercado, la diversificación nos ayudará a tener éxito en el largo plazo.\n",
    "\n",
    "David Swensen, en su libro Unconventional Success, nos provee una estructura de portafolio diversificado con base en diversos sectores. Entre los sectores se incluyen:\n",
    "- Acciones de EEUU,\n",
    "- Economías desarrolladas,\n",
    "- Economías en desarrollo,\n",
    "- Bienes raíces,\n",
    "- Entre otros.\n",
    "\n",
    "Para los anteriores sectores, podemos encontrar ETF's (Exchange Traded Fund) emitidos por la administradora Vanguard:\n",
    "- Acciones de EEUU: Vanguard S&P 500 ETF (VOO).\n",
    "- Economías desarrolladas: Vanguard FTSE Developed Markets Index Fund ETF Shares (VEA).\n",
    "- Economías en desarrollo: Vanguard FTSE Emerging Markets Index Fund ETF Shares (VWO).\n",
    "- Bienes raíces: Vanguard Real Estate Index Fund ETF Shares (VNQ)."
   ]
  },
  {
   "cell_type": "markdown",
   "metadata": {},
   "source": [
    "**Punto 1 (10%).** En el archivo `prices_data.csv` se encuentran reportados los **precios mensuales ajustados en el cierre** de los ETF VOO, VEA, VWO, y VNQ, en dólares, desde inicios del 2011 hasta el úlimo mes reportado.\n",
    "\n",
    "1. Importar los **precios** de los ETF en un **DataFrame indizado por fecha** (5%): \n",
    " - Mostrar la gráfica de estos precios.\n",
    " - Obtener un DataFrame con los **rendimientos porcentuales mensuales** para estos activos. Mostrar la gráfica de rendimientos.\n",
    " "
   ]
  },
  {
   "cell_type": "code",
   "execution_count": 4,
   "metadata": {},
   "outputs": [
    {
     "data": {
      "text/html": [
       "<div>\n",
       "<style scoped>\n",
       "    .dataframe tbody tr th:only-of-type {\n",
       "        vertical-align: middle;\n",
       "    }\n",
       "\n",
       "    .dataframe tbody tr th {\n",
       "        vertical-align: top;\n",
       "    }\n",
       "\n",
       "    .dataframe thead th {\n",
       "        text-align: right;\n",
       "    }\n",
       "</style>\n",
       "<table border=\"1\" class=\"dataframe\">\n",
       "  <thead>\n",
       "    <tr style=\"text-align: right;\">\n",
       "      <th></th>\n",
       "      <th>VOO</th>\n",
       "      <th>VEA</th>\n",
       "      <th>VWO</th>\n",
       "      <th>VNQ</th>\n",
       "    </tr>\n",
       "    <tr>\n",
       "      <th>Date</th>\n",
       "      <th></th>\n",
       "      <th></th>\n",
       "      <th></th>\n",
       "      <th></th>\n",
       "    </tr>\n",
       "  </thead>\n",
       "  <tbody>\n",
       "    <tr>\n",
       "      <th>2011-01-01</th>\n",
       "      <td>96.114723</td>\n",
       "      <td>26.870171</td>\n",
       "      <td>35.159519</td>\n",
       "      <td>37.665958</td>\n",
       "    </tr>\n",
       "    <tr>\n",
       "      <th>2011-02-01</th>\n",
       "      <td>99.446472</td>\n",
       "      <td>27.852427</td>\n",
       "      <td>35.099018</td>\n",
       "      <td>39.438244</td>\n",
       "    </tr>\n",
       "    <tr>\n",
       "      <th>2011-03-01</th>\n",
       "      <td>99.005508</td>\n",
       "      <td>27.146658</td>\n",
       "      <td>37.019962</td>\n",
       "      <td>38.522453</td>\n",
       "    </tr>\n",
       "    <tr>\n",
       "      <th>2011-04-01</th>\n",
       "      <td>102.368996</td>\n",
       "      <td>28.836800</td>\n",
       "      <td>38.267845</td>\n",
       "      <td>41.032860</td>\n",
       "    </tr>\n",
       "    <tr>\n",
       "      <th>2011-05-01</th>\n",
       "      <td>101.171371</td>\n",
       "      <td>28.058023</td>\n",
       "      <td>37.140965</td>\n",
       "      <td>41.596939</td>\n",
       "    </tr>\n",
       "  </tbody>\n",
       "</table>\n",
       "</div>"
      ],
      "text/plain": [
       "                   VOO        VEA        VWO        VNQ\n",
       "Date                                                   \n",
       "2011-01-01   96.114723  26.870171  35.159519  37.665958\n",
       "2011-02-01   99.446472  27.852427  35.099018  39.438244\n",
       "2011-03-01   99.005508  27.146658  37.019962  38.522453\n",
       "2011-04-01  102.368996  28.836800  38.267845  41.032860\n",
       "2011-05-01  101.171371  28.058023  37.140965  41.596939"
      ]
     },
     "execution_count": 4,
     "metadata": {},
     "output_type": "execute_result"
    }
   ],
   "source": [
    "precios_aj = pd.read_csv(\"prices_data.csv\", index_col=[0])\n",
    "precios_aj.head()"
   ]
  },
  {
   "cell_type": "code",
   "execution_count": 5,
   "metadata": {},
   "outputs": [
    {
     "data": {
      "image/png": "[encoded data removed]",
      "text/plain": [
       "<Figure size 432x288 with 1 Axes>"
      ]
     },
     "metadata": {
      "needs_background": "light"
     },
     "output_type": "display_data"
    }
   ],
   "source": [
    "precios_aj.plot();"
   ]
  },
  {
   "cell_type": "code",
   "execution_count": 6,
   "metadata": {
    "scrolled": true
   },
   "outputs": [
    {
     "data": {
      "text/html": [
       "<div>\n",
       "<style scoped>\n",
       "    .dataframe tbody tr th:only-of-type {\n",
       "        vertical-align: middle;\n",
       "    }\n",
       "\n",
       "    .dataframe tbody tr th {\n",
       "        vertical-align: top;\n",
       "    }\n",
       "\n",
       "    .dataframe thead th {\n",
       "        text-align: right;\n",
       "    }\n",
       "</style>\n",
       "<table border=\"1\" class=\"dataframe\">\n",
       "  <thead>\n",
       "    <tr style=\"text-align: right;\">\n",
       "      <th></th>\n",
       "      <th>VOO</th>\n",
       "      <th>VEA</th>\n",
       "      <th>VWO</th>\n",
       "      <th>VNQ</th>\n",
       "    </tr>\n",
       "    <tr>\n",
       "      <th>Date</th>\n",
       "      <th></th>\n",
       "      <th></th>\n",
       "      <th></th>\n",
       "      <th></th>\n",
       "    </tr>\n",
       "  </thead>\n",
       "  <tbody>\n",
       "    <tr>\n",
       "      <th>2011-02-01</th>\n",
       "      <td>0.034664</td>\n",
       "      <td>0.036556</td>\n",
       "      <td>-0.001721</td>\n",
       "      <td>0.047053</td>\n",
       "    </tr>\n",
       "    <tr>\n",
       "      <th>2011-03-01</th>\n",
       "      <td>-0.004434</td>\n",
       "      <td>-0.025340</td>\n",
       "      <td>0.054729</td>\n",
       "      <td>-0.023221</td>\n",
       "    </tr>\n",
       "    <tr>\n",
       "      <th>2011-04-01</th>\n",
       "      <td>0.033973</td>\n",
       "      <td>0.062260</td>\n",
       "      <td>0.033708</td>\n",
       "      <td>0.065167</td>\n",
       "    </tr>\n",
       "    <tr>\n",
       "      <th>2011-05-01</th>\n",
       "      <td>-0.011699</td>\n",
       "      <td>-0.027006</td>\n",
       "      <td>-0.029447</td>\n",
       "      <td>0.013747</td>\n",
       "    </tr>\n",
       "    <tr>\n",
       "      <th>2011-06-01</th>\n",
       "      <td>-0.021566</td>\n",
       "      <td>-0.012192</td>\n",
       "      <td>-0.009978</td>\n",
       "      <td>-0.041161</td>\n",
       "    </tr>\n",
       "  </tbody>\n",
       "</table>\n",
       "</div>"
      ],
      "text/plain": [
       "                 VOO       VEA       VWO       VNQ\n",
       "Date                                              \n",
       "2011-02-01  0.034664  0.036556 -0.001721  0.047053\n",
       "2011-03-01 -0.004434 -0.025340  0.054729 -0.023221\n",
       "2011-04-01  0.033973  0.062260  0.033708  0.065167\n",
       "2011-05-01 -0.011699 -0.027006 -0.029447  0.013747\n",
       "2011-06-01 -0.021566 -0.012192 -0.009978 -0.041161"
      ]
     },
     "execution_count": 6,
     "metadata": {},
     "output_type": "execute_result"
    }
   ],
   "source": [
    "rend = precios_aj.pct_change().dropna()\n",
    "rend.head()"
   ]
  },
  {
   "cell_type": "code",
   "execution_count": 7,
   "metadata": {},
   "outputs": [
    {
     "data": {
      "image/png": "[encoded data removed]",
      "text/plain": [
       "<Figure size 432x288 with 1 Axes>"
      ]
     },
     "metadata": {
      "needs_background": "light"
     },
     "output_type": "display_data"
    }
   ],
   "source": [
    "rend.plot();"
   ]
  },
  {
   "cell_type": "markdown",
   "metadata": {},
   "source": [
    "2. Reportar en un **DataFrame el rendimiento esperado mensual y la volatilidad mensual** para cada uno de estos activos. Calcular las matrices de varianza-covarianza (**base mensual**) y de correlación (**base mensual**) para estos activos (5%)."
   ]
  },
  {
   "cell_type": "code",
   "execution_count": 8,
   "metadata": {},
   "outputs": [
    {
     "data": {
      "text/html": [
       "<div>\n",
       "<style scoped>\n",
       "    .dataframe tbody tr th:only-of-type {\n",
       "        vertical-align: middle;\n",
       "    }\n",
       "\n",
       "    .dataframe tbody tr th {\n",
       "        vertical-align: top;\n",
       "    }\n",
       "\n",
       "    .dataframe thead th {\n",
       "        text-align: right;\n",
       "    }\n",
       "</style>\n",
       "<table border=\"1\" class=\"dataframe\">\n",
       "  <thead>\n",
       "    <tr style=\"text-align: right;\">\n",
       "      <th></th>\n",
       "      <th>Rent</th>\n",
       "      <th>Vol</th>\n",
       "    </tr>\n",
       "  </thead>\n",
       "  <tbody>\n",
       "    <tr>\n",
       "      <th>VOO</th>\n",
       "      <td>0.012135</td>\n",
       "      <td>0.039197</td>\n",
       "    </tr>\n",
       "    <tr>\n",
       "      <th>VEA</th>\n",
       "      <td>0.006202</td>\n",
       "      <td>0.044605</td>\n",
       "    </tr>\n",
       "    <tr>\n",
       "      <th>VWO</th>\n",
       "      <td>0.004222</td>\n",
       "      <td>0.052629</td>\n",
       "    </tr>\n",
       "    <tr>\n",
       "      <th>VNQ</th>\n",
       "      <td>0.009313</td>\n",
       "      <td>0.047892</td>\n",
       "    </tr>\n",
       "  </tbody>\n",
       "</table>\n",
       "</div>"
      ],
      "text/plain": [
       "         Rent       Vol\n",
       "VOO  0.012135  0.039197\n",
       "VEA  0.006202  0.044605\n",
       "VWO  0.004222  0.052629\n",
       "VNQ  0.009313  0.047892"
      ]
     },
     "execution_count": 8,
     "metadata": {},
     "output_type": "execute_result"
    }
   ],
   "source": [
    "tabla2 = pd.DataFrame({\"Rent\": rend.mean(), \"Vol\": rend.std()})\n",
    "tabla2"
   ]
  },
  {
   "cell_type": "code",
   "execution_count": 9,
   "metadata": {},
   "outputs": [
    {
     "data": {
      "text/html": [
       "<div>\n",
       "<style scoped>\n",
       "    .dataframe tbody tr th:only-of-type {\n",
       "        vertical-align: middle;\n",
       "    }\n",
       "\n",
       "    .dataframe tbody tr th {\n",
       "        vertical-align: top;\n",
       "    }\n",
       "\n",
       "    .dataframe thead th {\n",
       "        text-align: right;\n",
       "    }\n",
       "</style>\n",
       "<table border=\"1\" class=\"dataframe\">\n",
       "  <thead>\n",
       "    <tr style=\"text-align: right;\">\n",
       "      <th></th>\n",
       "      <th>VOO</th>\n",
       "      <th>VEA</th>\n",
       "      <th>VWO</th>\n",
       "      <th>VNQ</th>\n",
       "    </tr>\n",
       "  </thead>\n",
       "  <tbody>\n",
       "    <tr>\n",
       "      <th>VOO</th>\n",
       "      <td>0.001536</td>\n",
       "      <td>0.001511</td>\n",
       "      <td>0.001512</td>\n",
       "      <td>0.001283</td>\n",
       "    </tr>\n",
       "    <tr>\n",
       "      <th>VEA</th>\n",
       "      <td>0.001511</td>\n",
       "      <td>0.001990</td>\n",
       "      <td>0.001959</td>\n",
       "      <td>0.001361</td>\n",
       "    </tr>\n",
       "    <tr>\n",
       "      <th>VWO</th>\n",
       "      <td>0.001512</td>\n",
       "      <td>0.001959</td>\n",
       "      <td>0.002770</td>\n",
       "      <td>0.001444</td>\n",
       "    </tr>\n",
       "    <tr>\n",
       "      <th>VNQ</th>\n",
       "      <td>0.001283</td>\n",
       "      <td>0.001361</td>\n",
       "      <td>0.001444</td>\n",
       "      <td>0.002294</td>\n",
       "    </tr>\n",
       "  </tbody>\n",
       "</table>\n",
       "</div>"
      ],
      "text/plain": [
       "          VOO       VEA       VWO       VNQ\n",
       "VOO  0.001536  0.001511  0.001512  0.001283\n",
       "VEA  0.001511  0.001990  0.001959  0.001361\n",
       "VWO  0.001512  0.001959  0.002770  0.001444\n",
       "VNQ  0.001283  0.001361  0.001444  0.002294"
      ]
     },
     "execution_count": 9,
     "metadata": {},
     "output_type": "execute_result"
    }
   ],
   "source": [
    "# Covarianza\n",
    "rend.cov()"
   ]
  },
  {
   "cell_type": "code",
   "execution_count": 10,
   "metadata": {},
   "outputs": [
    {
     "data": {
      "text/html": [
       "<div>\n",
       "<style scoped>\n",
       "    .dataframe tbody tr th:only-of-type {\n",
       "        vertical-align: middle;\n",
       "    }\n",
       "\n",
       "    .dataframe tbody tr th {\n",
       "        vertical-align: top;\n",
       "    }\n",
       "\n",
       "    .dataframe thead th {\n",
       "        text-align: right;\n",
       "    }\n",
       "</style>\n",
       "<table border=\"1\" class=\"dataframe\">\n",
       "  <thead>\n",
       "    <tr style=\"text-align: right;\">\n",
       "      <th></th>\n",
       "      <th>VOO</th>\n",
       "      <th>VEA</th>\n",
       "      <th>VWO</th>\n",
       "      <th>VNQ</th>\n",
       "    </tr>\n",
       "  </thead>\n",
       "  <tbody>\n",
       "    <tr>\n",
       "      <th>VOO</th>\n",
       "      <td>1.000000</td>\n",
       "      <td>0.863971</td>\n",
       "      <td>0.732829</td>\n",
       "      <td>0.683677</td>\n",
       "    </tr>\n",
       "    <tr>\n",
       "      <th>VEA</th>\n",
       "      <td>0.863971</td>\n",
       "      <td>1.000000</td>\n",
       "      <td>0.834337</td>\n",
       "      <td>0.637255</td>\n",
       "    </tr>\n",
       "    <tr>\n",
       "      <th>VWO</th>\n",
       "      <td>0.732829</td>\n",
       "      <td>0.834337</td>\n",
       "      <td>1.000000</td>\n",
       "      <td>0.572965</td>\n",
       "    </tr>\n",
       "    <tr>\n",
       "      <th>VNQ</th>\n",
       "      <td>0.683677</td>\n",
       "      <td>0.637255</td>\n",
       "      <td>0.572965</td>\n",
       "      <td>1.000000</td>\n",
       "    </tr>\n",
       "  </tbody>\n",
       "</table>\n",
       "</div>"
      ],
      "text/plain": [
       "          VOO       VEA       VWO       VNQ\n",
       "VOO  1.000000  0.863971  0.732829  0.683677\n",
       "VEA  0.863971  1.000000  0.834337  0.637255\n",
       "VWO  0.732829  0.834337  1.000000  0.572965\n",
       "VNQ  0.683677  0.637255  0.572965  1.000000"
      ]
     },
     "execution_count": 10,
     "metadata": {},
     "output_type": "execute_result"
    }
   ],
   "source": [
    "# Corretación\n",
    "corr = rend.corr()\n",
    "corr"
   ]
  },
  {
   "cell_type": "markdown",
   "metadata": {},
   "source": [
    "**Punto 2 (25%).** Usando los datos del punto anterior:\n",
    "\n",
    "1. Construya la frontera de mínima varianza que representa las posibles combinaciones de portafolios que se pueden crear con los ETF. Reportar los **rendimientos esperados y las volatilidades de estos portafolios (base mensual) en un DataFrame** (15%).\n",
    "\n",
    "2. Encontrar los pesos del portafolio de mínima varianza. Reportar el **rendimiento esperado mensual y la volatilidad mensual del portafolio de mínima varianza** (10%).\n",
    "\n",
    "**Ayuda.** A veces, la tolerancia por defecto para el optimizador numérico `scipy.optimize.minimize` no se elige correctamente, y es necesario ajustarla manualmente. En este caso, se recomienda pasarle a la función minimize el argumento `tol=1e-10`."
   ]
  },
  {
   "cell_type": "code",
   "execution_count": 11,
   "metadata": {},
   "outputs": [],
   "source": [
    "#Activo1: VOO, Activo2: VEA, Activo3: VWO, Activo4: VNQ\n",
    "\n",
    "# 1. Sigma: matriz de varianza-covarianza\n",
    "s1 = tabla2[\"Vol\"][\"VOO\"]\n",
    "s2 = tabla2[\"Vol\"][\"VEA\"]\n",
    "s3 = tabla2[\"Vol\"][\"VWO\"]\n",
    "s4 = tabla2[\"Vol\"][\"VNQ\"]\n",
    "\n",
    "s12 = corr[\"VOO\"][\"VEA\"] * s1 * s2\n",
    "s13 = corr[\"VOO\"][\"VWO\"] * s1 * s3\n",
    "s14 = corr[\"VOO\"][\"VNQ\"] * s1 * s4\n",
    "\n",
    "s23 = corr[\"VEA\"][\"VWO\"] * s2 * s3\n",
    "s24 = corr[\"VEA\"][\"VNQ\"] * s2 * s4\n",
    "\n",
    "s34 = corr[\"VWO\"][\"VNQ\"] * s3 * s4\n",
    "\n",
    "\n",
    "\n",
    "Sigma = np.array([[s1**2, s12, s13, s14],\n",
    "                  [s12, s2**2, s23, s24],\n",
    "                  [s13, s23, s3**2, s34],\n",
    "                  [s14, s24, s34, s4**2]])\n",
    "\n",
    "\n",
    "\n",
    "# 2. Eind: rendimientos esperados activos individuales\n",
    "E1 = tabla2[\"Rent\"][\"VOO\"]\n",
    "E2 = tabla2[\"Rent\"][\"VEA\"]\n",
    "E3 = tabla2[\"Rent\"][\"VWO\"]\n",
    "E4 = tabla2[\"Rent\"][\"VNQ\"]\n",
    "\n",
    "Eind = np.array([E1, E2, E3, E4])\n",
    "# 3. Ereq: rendimientos requeridos para el portafolio\n",
    "# Número de portafolios\n",
    "N = 101\n",
    "Ereq = np.linspace(Eind.min(), Eind.max(), N)"
   ]
  },
  {
   "cell_type": "code",
   "execution_count": 12,
   "metadata": {},
   "outputs": [],
   "source": [
    "def varianza(w, Sigma):\n",
    "    return w.T.dot(Sigma).dot(w)\n",
    "def rendimiento_req(w, Eind, Ereq):\n",
    "    return Eind.T.dot(w) - Ereq"
   ]
  },
  {
   "cell_type": "code",
   "execution_count": 13,
   "metadata": {},
   "outputs": [],
   "source": [
    "# Dato inicial\n",
    "w0 = np.ones(4,) / 4\n",
    "# Cotas de las variables\n",
    "bnds = ((0, None), (0, None), (0, None), (0, None))"
   ]
  },
  {
   "cell_type": "code",
   "execution_count": 14,
   "metadata": {},
   "outputs": [],
   "source": [
    "# DataFrame de portafolios de la frontera\n",
    "port = pd.DataFrame(index=range(N), columns=['w1', 'w2', 'w3','w4', 'Rent', 'Vol'])"
   ]
  },
  {
   "cell_type": "code",
   "execution_count": 15,
   "metadata": {},
   "outputs": [],
   "source": [
    "# Construcción de los N portafolios de la frontera\n",
    "for i in range(N):\n",
    "    # Restricciones\n",
    "    cons = ({'type': 'eq', 'fun': rendimiento_req, 'args': (Eind, Ereq[i])},\n",
    "            {'type': 'eq', 'fun': lambda w: w.sum() - 1})\n",
    "    # Portafolio de mínima varianza para nivel de rendimiento esperado Ereq[i]\n",
    "    min_var = opt.minimize(fun=varianza,\n",
    "                           x0=w0,\n",
    "                           args=(Sigma,),\n",
    "                           bounds=bnds,\n",
    "                           constraints=cons)\n",
    "    # Pesos, rendimientos y volatilidades de los portafolio\n",
    "    port.loc[i, ['w1','w2','w3','w4']] = min_var.x\n",
    "    port['Rent'][i] = Eind.dot(min_var.x)\n",
    "    port['Vol'][i] = np.sqrt(varianza(min_var.x, Sigma))"
   ]
  },
  {
   "cell_type": "code",
   "execution_count": 16,
   "metadata": {},
   "outputs": [
    {
     "data": {
      "text/html": [
       "<div>\n",
       "<style scoped>\n",
       "    .dataframe tbody tr th:only-of-type {\n",
       "        vertical-align: middle;\n",
       "    }\n",
       "\n",
       "    .dataframe tbody tr th {\n",
       "        vertical-align: top;\n",
       "    }\n",
       "\n",
       "    .dataframe thead th {\n",
       "        text-align: right;\n",
       "    }\n",
       "</style>\n",
       "<table border=\"1\" class=\"dataframe\">\n",
       "  <thead>\n",
       "    <tr style=\"text-align: right;\">\n",
       "      <th></th>\n",
       "      <th>w1</th>\n",
       "      <th>w2</th>\n",
       "      <th>w3</th>\n",
       "      <th>w4</th>\n",
       "      <th>Rent</th>\n",
       "      <th>Vol</th>\n",
       "    </tr>\n",
       "  </thead>\n",
       "  <tbody>\n",
       "    <tr>\n",
       "      <th>0</th>\n",
       "      <td>0.0</td>\n",
       "      <td>0.0</td>\n",
       "      <td>1.0</td>\n",
       "      <td>0.0</td>\n",
       "      <td>0.004222</td>\n",
       "      <td>0.052629</td>\n",
       "    </tr>\n",
       "    <tr>\n",
       "      <th>1</th>\n",
       "      <td>0.0</td>\n",
       "      <td>0.039962</td>\n",
       "      <td>0.960038</td>\n",
       "      <td>0.0</td>\n",
       "      <td>0.004302</td>\n",
       "      <td>0.052023</td>\n",
       "    </tr>\n",
       "    <tr>\n",
       "      <th>2</th>\n",
       "      <td>0.0</td>\n",
       "      <td>0.079924</td>\n",
       "      <td>0.920076</td>\n",
       "      <td>0.0</td>\n",
       "      <td>0.004381</td>\n",
       "      <td>0.051435</td>\n",
       "    </tr>\n",
       "    <tr>\n",
       "      <th>3</th>\n",
       "      <td>0.0</td>\n",
       "      <td>0.119886</td>\n",
       "      <td>0.880114</td>\n",
       "      <td>0.0</td>\n",
       "      <td>0.00446</td>\n",
       "      <td>0.050867</td>\n",
       "    </tr>\n",
       "    <tr>\n",
       "      <th>4</th>\n",
       "      <td>0.0</td>\n",
       "      <td>0.159848</td>\n",
       "      <td>0.840152</td>\n",
       "      <td>0.0</td>\n",
       "      <td>0.004539</td>\n",
       "      <td>0.050319</td>\n",
       "    </tr>\n",
       "    <tr>\n",
       "      <th>...</th>\n",
       "      <td>...</td>\n",
       "      <td>...</td>\n",
       "      <td>...</td>\n",
       "      <td>...</td>\n",
       "      <td>...</td>\n",
       "      <td>...</td>\n",
       "    </tr>\n",
       "    <tr>\n",
       "      <th>96</th>\n",
       "      <td>0.887833</td>\n",
       "      <td>0.0</td>\n",
       "      <td>0.0</td>\n",
       "      <td>0.112167</td>\n",
       "      <td>0.011819</td>\n",
       "      <td>0.038672</td>\n",
       "    </tr>\n",
       "    <tr>\n",
       "      <th>97</th>\n",
       "      <td>0.915875</td>\n",
       "      <td>0.0</td>\n",
       "      <td>0.0</td>\n",
       "      <td>0.084125</td>\n",
       "      <td>0.011898</td>\n",
       "      <td>0.038766</td>\n",
       "    </tr>\n",
       "    <tr>\n",
       "      <th>98</th>\n",
       "      <td>0.943916</td>\n",
       "      <td>0.0</td>\n",
       "      <td>0.0</td>\n",
       "      <td>0.056084</td>\n",
       "      <td>0.011977</td>\n",
       "      <td>0.038885</td>\n",
       "    </tr>\n",
       "    <tr>\n",
       "      <th>99</th>\n",
       "      <td>0.971958</td>\n",
       "      <td>0.0</td>\n",
       "      <td>0.0</td>\n",
       "      <td>0.028042</td>\n",
       "      <td>0.012056</td>\n",
       "      <td>0.039029</td>\n",
       "    </tr>\n",
       "    <tr>\n",
       "      <th>100</th>\n",
       "      <td>1.0</td>\n",
       "      <td>0.0</td>\n",
       "      <td>0.0</td>\n",
       "      <td>0.0</td>\n",
       "      <td>0.012135</td>\n",
       "      <td>0.039197</td>\n",
       "    </tr>\n",
       "  </tbody>\n",
       "</table>\n",
       "<p>101 rows × 6 columns</p>\n",
       "</div>"
      ],
      "text/plain": [
       "           w1        w2        w3        w4      Rent       Vol\n",
       "0         0.0       0.0       1.0       0.0  0.004222  0.052629\n",
       "1         0.0  0.039962  0.960038       0.0  0.004302  0.052023\n",
       "2         0.0  0.079924  0.920076       0.0  0.004381  0.051435\n",
       "3         0.0  0.119886  0.880114       0.0   0.00446  0.050867\n",
       "4         0.0  0.159848  0.840152       0.0  0.004539  0.050319\n",
       "..        ...       ...       ...       ...       ...       ...\n",
       "96   0.887833       0.0       0.0  0.112167  0.011819  0.038672\n",
       "97   0.915875       0.0       0.0  0.084125  0.011898  0.038766\n",
       "98   0.943916       0.0       0.0  0.056084  0.011977  0.038885\n",
       "99   0.971958       0.0       0.0  0.028042  0.012056  0.039029\n",
       "100       1.0       0.0       0.0       0.0  0.012135  0.039197\n",
       "\n",
       "[101 rows x 6 columns]"
      ]
     },
     "execution_count": 16,
     "metadata": {},
     "output_type": "execute_result"
    }
   ],
   "source": [
    "# Portafolios de la frontera\n",
    "port"
   ]
  },
  {
   "cell_type": "code",
   "execution_count": 17,
   "metadata": {},
   "outputs": [
    {
     "data": {
      "text/plain": [
       "     fun: 0.0016705718105585483\n",
       "     jac: array([0.00292108, 0.00341002, 0.00384221, 0.00319126])\n",
       " message: 'Optimization terminated successfully'\n",
       "    nfev: 5\n",
       "     nit: 1\n",
       "    njev: 1\n",
       "  status: 0\n",
       " success: True\n",
       "       x: array([0.25, 0.25, 0.25, 0.25])"
      ]
     },
     "execution_count": 17,
     "metadata": {},
     "output_type": "execute_result"
    }
   ],
   "source": [
    "# Portafolio de mínima varianza\n",
    "cons = ({'type': 'eq', 'fun': lambda w: np.sum(w)-1},)\n",
    "min_var = opt.minimize(varianza, w0, args=(Sigma,), bounds=bnds, constraints=cons)\n",
    "min_var"
   ]
  },
  {
   "cell_type": "code",
   "execution_count": 18,
   "metadata": {},
   "outputs": [],
   "source": [
    "w_minvar = min_var.x\n",
    "E_minvar = Eind.dot(w_minvar)\n",
    "s_minvar = np.sqrt(varianza(w_minvar, Sigma))"
   ]
  },
  {
   "cell_type": "code",
   "execution_count": 19,
   "metadata": {},
   "outputs": [
    {
     "data": {
      "text/plain": [
       "(0.007968395863916598, 0.04087262911238459)"
      ]
     },
     "execution_count": 19,
     "metadata": {},
     "output_type": "execute_result"
    }
   ],
   "source": [
    "#Rendimiento esperado y volatilidad en portafolios de mínima varianza\n",
    "E_minvar, s_minvar"
   ]
  },
  {
   "cell_type": "markdown",
   "metadata": {},
   "source": [
    "- Rendimiento esperado del portafolio de mínima varianza: 0.746%\n",
    "- Volatilidad del portafolio de mínima varianza: 4.16%"
   ]
  },
  {
   "cell_type": "markdown",
   "metadata": {},
   "source": [
    "**Punto 3 (15%).** \n",
    "\n",
    "1. Usando sus respuestas para el punto anterior, **grafique la frontera de mínima varianza**, además de los puntos correspondientes a los ETF individuales, y del **portafolio de mínima varianza**, donde el eje $x$ es la volatilidad y el eje $y$ el rendimiento esperado. Asegúrese de etiquetar todo y poner distintos colores para diferenciar los distintos elementos en su gráfico (5%).\n",
    "2. Concluya acerca de la gráfica de la frontera de mínima varianza, y acerca de los pesos encontrados para el portafolio de mínima varianza (10%)."
   ]
  },
  {
   "cell_type": "code",
   "execution_count": 20,
   "metadata": {},
   "outputs": [
    {
     "data": {
      "image/png": "[encoded data removed]",
      "text/plain": [
       "<Figure size 720x432 with 1 Axes>"
      ]
     },
     "metadata": {
      "needs_background": "light"
     },
     "output_type": "display_data"
    }
   ],
   "source": [
    "plt.figure(figsize=(10, 6))\n",
    "\n",
    "plt.plot(port[\"Vol\"], port.Rent, \"k-\", lw=2, label=\"Portafolio\")\n",
    "\n",
    "#Índices \n",
    "plt.plot(s1, E1, 'ob', ms=10, label=\"Índice VOO\")\n",
    "plt.plot(s2, E2, 'or', ms=10, label=\"Índice VEA\")\n",
    "plt.plot(s3, E3, 'og', ms=10, label=\"Índice VWO\")\n",
    "plt.plot(s4, E4, 'oc', ms=10, label=\"Índice VNQ\")\n",
    "\n",
    "#Portafolio mínima varianza\n",
    "\n",
    "plt.plot(s_minvar, E_minvar, '*b', ms=10, label='Port. Min. Var.')\n",
    "\n",
    "#Etiquetas de los ejes \n",
    "\n",
    "plt.xlabel('Volatilidad $\\sigma$')\n",
    "plt.ylabel('Rendimiento esperado $E[r]$')\n",
    "plt.grid()\n",
    "plt.legend(loc='best');"
   ]
  },
  {
   "cell_type": "markdown",
   "metadata": {},
   "source": [
    "<script>\n",
    "  $(document).ready(function(){\n",
    "    $('div.prompt').hide();\n",
    "    $('div.back-to-top').hide();\n",
    "    $('nav#menubar').hide();\n",
    "    $('.breadcrumb').hide();\n",
    "    $('.hidden-print').hide();\n",
    "  });\n",
    "</script>\n",
    "\n",
    "<footer id=\"attribution\" style=\"float:right; color:#808080; background:#fff;\">\n",
    "Created with Jupyter by Esteban Jiménez Rodríguez.\n",
    "</footer>"
   ]
  }
 ],
 "metadata": {
  "kernelspec": {
   "display_name": "Python 3",
   "language": "python",
   "name": "python3"
  },
  "language_info": {
   "codemirror_mode": {
    "name": "ipython",
    "version": 3
   },
   "file_extension": ".py",
   "mimetype": "text/x-python",
   "name": "python",
   "nbconvert_exporter": "python",
   "pygments_lexer": "ipython3",
   "version": "3.8.8"
  }
 },
 "nbformat": 4,
 "nbformat_minor": 2
}
